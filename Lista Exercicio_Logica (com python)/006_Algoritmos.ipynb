{
 "cells": [
  {
   "cell_type": "markdown",
   "id": "bfd3c45e",
   "metadata": {},
   "source": [
    "## Crie um algoritmo que peça a altura e o peso de uma pessoa. Calcule e informe o IMC.Considere a fórmula: IMC = peso / ( altura )²\n"
   ]
  },
  {
   "cell_type": "code",
   "execution_count": null,
   "id": "54893190",
   "metadata": {},
   "outputs": [],
   "source": [
    "altura = float(input(\"Digite sua altura em Metros\"))\n",
    "peso = float(input(\"Digite seu peso\"))\n",
    "\n",
    "imc = peso / (altura ** altura)\n",
    "\n",
    "print(f'seu IMC foi de {imc}')\n",
    "\n",
    "\n",
    "if imc < 17:\n",
    "    print(\"Muito abaixo do peso\")\n",
    "elif imc >= 17 and imc <= 18.49:\n",
    "    print(\"Abaixo do peso\")\n",
    "elif imc >= 18.5 and imc <= 24.99:\n",
    "    print(\"Peso normal\")\n",
    "elif imc >= 25 and imc <= 29.99:\n",
    "    print(\"Acima do peso\")\n",
    "elif imc >= 30 and imc <= 34.99:\n",
    "    print(\"Obesidade I\")\n",
    "elif imc >= 35 and imc <= 39.99:\n",
    "    print(\"Obesidade II (severa)\")\n",
    "elif imc > 40:\n",
    "    print(\"Obesidade III (mórbida)\")\n",
    "\n"
   ]
  },
  {
   "cell_type": "code",
   "execution_count": null,
   "id": "11abde73",
   "metadata": {},
   "outputs": [],
   "source": []
  }
 ],
 "metadata": {
  "kernelspec": {
   "display_name": "Python 3 (ipykernel)",
   "language": "python",
   "name": "python3"
  },
  "language_info": {
   "codemirror_mode": {
    "name": "ipython",
    "version": 3
   },
   "file_extension": ".py",
   "mimetype": "text/x-python",
   "name": "python",
   "nbconvert_exporter": "python",
   "pygments_lexer": "ipython3",
   "version": "3.9.7"
  }
 },
 "nbformat": 4,
 "nbformat_minor": 5
}
