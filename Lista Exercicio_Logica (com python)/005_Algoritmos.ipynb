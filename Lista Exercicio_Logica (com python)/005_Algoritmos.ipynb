{
 "cells": [
  {
   "cell_type": "markdown",
   "id": "6fcca683",
   "metadata": {},
   "source": [
    "## Faça um algoritmo para uma loja de 1,99. Leia quantos itens foram vendidos. Conceda um desconto de 5% e informe o valor final.\n"
   ]
  },
  {
   "cell_type": "code",
   "execution_count": 16,
   "id": "d16d187f",
   "metadata": {},
   "outputs": [
    {
     "name": "stdout",
     "output_type": "stream",
     "text": [
      "Informe a quantidade de itens10\n",
      "Valor final foi18.904999999999998\n"
     ]
    }
   ],
   "source": [
    "qtdItens = int(input(\"Informe a quantidade de itens\"))\n",
    "\n",
    "precoUnidade = 1.99\n",
    "\n",
    "soma = (qtdItens * 1.99)\n",
    "desconto = 0.05 * soma\n",
    "valorFinal = soma - desconto\n",
    "\n",
    "print(f'Valor final foi{valorFinal}')"
   ]
  }
 ],
 "metadata": {
  "kernelspec": {
   "display_name": "Python 3 (ipykernel)",
   "language": "python",
   "name": "python3"
  },
  "language_info": {
   "codemirror_mode": {
    "name": "ipython",
    "version": 3
   },
   "file_extension": ".py",
   "mimetype": "text/x-python",
   "name": "python",
   "nbconvert_exporter": "python",
   "pygments_lexer": "ipython3",
   "version": "3.9.7"
  }
 },
 "nbformat": 4,
 "nbformat_minor": 5
}
