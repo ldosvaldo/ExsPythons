{
 "cells": [
  {
   "cell_type": "markdown",
   "id": "d1770ce3",
   "metadata": {},
   "source": [
    "###  Uma fábrica de refrigerantes vende seu produto em três formatos: lata de 350 ml, garrafa de 600 ml e garrafa de 2 litros. Se um comerciante compra uma determinada quantidade de cada formato, faça um algoritmo para calcular quantos litros de refrigerante ele comprou. \n"
   ]
  },
  {
   "cell_type": "code",
   "execution_count": 1,
   "id": "9df4562e",
   "metadata": {},
   "outputs": [
    {
     "name": "stdout",
     "output_type": "stream",
     "text": [
      "Digite a quantidade de latas2\n",
      "Digite a quantidade de garrafas2\n",
      "Digite a quantidade de litros1\n",
      "Total de 2900 mls\n"
     ]
    }
   ],
   "source": [
    "qtdLatas = (int(input(\"Digite a quantidade de latas\")))\n",
    "qtdGarrafa = (int(input(\"Digite a quantidade de garrafas\")))\n",
    "qtdLitros = (int(input(\"Digite a quantidade de litros\")))\n",
    "\n",
    "lata = 350\n",
    "garrafa = 600\n",
    "litro = 1000\n",
    "\n",
    "totalLiquido = (qtdLatas * lata) + (qtdGarrafa * garrafa) + (qtdLitros * litro)\n",
    "\n",
    "print(f'Total de {totalLiquido} mls')"
   ]
  },
  {
   "cell_type": "code",
   "execution_count": null,
   "id": "d9423471",
   "metadata": {},
   "outputs": [],
   "source": []
  }
 ],
 "metadata": {
  "kernelspec": {
   "display_name": "Python 3 (ipykernel)",
   "language": "python",
   "name": "python3"
  },
  "language_info": {
   "codemirror_mode": {
    "name": "ipython",
    "version": 3
   },
   "file_extension": ".py",
   "mimetype": "text/x-python",
   "name": "python",
   "nbconvert_exporter": "python",
   "pygments_lexer": "ipython3",
   "version": "3.9.7"
  }
 },
 "nbformat": 4,
 "nbformat_minor": 5
}
