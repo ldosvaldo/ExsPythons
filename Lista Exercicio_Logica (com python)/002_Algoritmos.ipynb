{
 "cells": [
  {
   "cell_type": "markdown",
   "id": "f01708c1",
   "metadata": {},
   "source": [
    "## Sabendo que cada cavalo precisa de 4 ferraduras e que cada unidade custa 9,90, pergunte quantos cavalos precisam de ferraduras. Depois calcule e informe o valor final."
   ]
  },
  {
   "cell_type": "code",
   "execution_count": 2,
   "id": "4c15efdd",
   "metadata": {},
   "outputs": [
    {
     "name": "stdout",
     "output_type": "stream",
     "text": [
      "Quantos cavalos precisam de ferraduras?10\n",
      "Valor final foi de 396.0reais\n"
     ]
    }
   ],
   "source": [
    "qtdCavalos = int(input(\"Quantos cavalos precisam de ferraduras?\"))\n",
    "\n",
    "ferradura = 9.9\n",
    "qtdFerraduras = qtdCavalos * 4\n",
    "valorFinal = ferradura * qtdFerraduras\n",
    "\n",
    "print(f'Valor final foi de {valorFinal}reais')"
   ]
  },
  {
   "cell_type": "code",
   "execution_count": null,
   "id": "20661f20",
   "metadata": {},
   "outputs": [],
   "source": []
  }
 ],
 "metadata": {
  "kernelspec": {
   "display_name": "Python 3 (ipykernel)",
   "language": "python",
   "name": "python3"
  },
  "language_info": {
   "codemirror_mode": {
    "name": "ipython",
    "version": 3
   },
   "file_extension": ".py",
   "mimetype": "text/x-python",
   "name": "python",
   "nbconvert_exporter": "python",
   "pygments_lexer": "ipython3",
   "version": "3.9.7"
  }
 },
 "nbformat": 4,
 "nbformat_minor": 5
}
