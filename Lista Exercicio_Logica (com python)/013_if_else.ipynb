{
 "cells": [
  {
   "cell_type": "markdown",
   "id": "b00bc183",
   "metadata": {},
   "source": [
    "###  Leia três valores (A, B e C). Informe se A+B é maior do que C.\n"
   ]
  },
  {
   "cell_type": "code",
   "execution_count": 4,
   "id": "b754fe7c",
   "metadata": {},
   "outputs": [
    {
     "name": "stdout",
     "output_type": "stream",
     "text": [
      "Digite um numero10\n",
      "Digite um numero2\n",
      "Digite um numero20\n",
      "O valor de C é maior que a soma entra A + B. valor de 20.0\n"
     ]
    }
   ],
   "source": [
    "a = float(input(\"Digite um numero\"))\n",
    "b = float(input(\"Digite um numero\"))\n",
    "c = float(input(\"Digite um numero\"))\n",
    "\n",
    "soma = a + b\n",
    "\n",
    "if(soma > c):\n",
    "    print(f'A soma entra A + B é maior que o valor de C. valor de {soma}')\n",
    "elif(soma < c):\n",
    "    print(f'O valor de C é maior que a soma entra A + B. valor de {c}')\n",
    "else:\n",
    "    print(\" Valores iguais\")"
   ]
  },
  {
   "cell_type": "code",
   "execution_count": null,
   "id": "f8cc13c6",
   "metadata": {},
   "outputs": [],
   "source": []
  },
  {
   "cell_type": "code",
   "execution_count": null,
   "id": "0af2de49",
   "metadata": {},
   "outputs": [],
   "source": []
  }
 ],
 "metadata": {
  "kernelspec": {
   "display_name": "Python 3 (ipykernel)",
   "language": "python",
   "name": "python3"
  },
  "language_info": {
   "codemirror_mode": {
    "name": "ipython",
    "version": 3
   },
   "file_extension": ".py",
   "mimetype": "text/x-python",
   "name": "python",
   "nbconvert_exporter": "python",
   "pygments_lexer": "ipython3",
   "version": "3.9.7"
  }
 },
 "nbformat": 4,
 "nbformat_minor": 5
}
