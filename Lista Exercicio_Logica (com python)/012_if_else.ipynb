{
 "cells": [
  {
   "cell_type": "markdown",
   "id": "ddfa8f83",
   "metadata": {},
   "source": [
    "### Leia dois valores (A e B) e informe qual é o maior valor.\n"
   ]
  },
  {
   "cell_type": "code",
   "execution_count": 4,
   "id": "b8295db0",
   "metadata": {},
   "outputs": [
    {
     "name": "stdout",
     "output_type": "stream",
     "text": [
      "Digite um valor5\n",
      "Digite um valor5\n",
      "Valores Iguais\n"
     ]
    }
   ],
   "source": [
    "a = float(input(\"Digite um valor\"))\n",
    "b = float(input(\"Digite um valor\"))\n",
    "\n",
    "if ( a > b):\n",
    "    print(f'Valor A é maior {a}')\n",
    "elif ( a < b):\n",
    "    print(f'Valor B é maior {b}')\n",
    "else:\n",
    "    print(\"Valores Iguais\")"
   ]
  },
  {
   "cell_type": "code",
   "execution_count": null,
   "id": "dbd05dd3",
   "metadata": {},
   "outputs": [],
   "source": []
  }
 ],
 "metadata": {
  "kernelspec": {
   "display_name": "Python 3 (ipykernel)",
   "language": "python",
   "name": "python3"
  },
  "language_info": {
   "codemirror_mode": {
    "name": "ipython",
    "version": 3
   },
   "file_extension": ".py",
   "mimetype": "text/x-python",
   "name": "python",
   "nbconvert_exporter": "python",
   "pygments_lexer": "ipython3",
   "version": "3.9.7"
  }
 },
 "nbformat": 4,
 "nbformat_minor": 5
}
