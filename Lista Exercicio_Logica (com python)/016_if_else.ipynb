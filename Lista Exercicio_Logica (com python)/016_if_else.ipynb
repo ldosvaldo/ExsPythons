{
 "cells": [
  {
   "cell_type": "markdown",
   "id": "93ddc86a",
   "metadata": {},
   "source": [
    "### Crie um algoritmo que peça a altura e o peso de uma pessoa. Calcule o IMC e informe se ele está dentro do intervalo de 18,5 e 25. Considere a fórmula:IMC = peso / ( altura )²"
   ]
  },
  {
   "cell_type": "code",
   "execution_count": 5,
   "id": "f644d20b",
   "metadata": {},
   "outputs": [
    {
     "name": "stdout",
     "output_type": "stream",
     "text": [
      "Digite sua altura em Metros1.50\n",
      "Digite seu peso100\n",
      "seu IMC foi de 54.433105395181734\n",
      "Bora bora melhorar eses IMC\n"
     ]
    }
   ],
   "source": [
    "altura = float(input(\"Digite sua altura em Metros\"))\n",
    "peso = float(input(\"Digite seu peso\"))\n",
    "\n",
    "imc = peso / (altura ** altura)\n",
    "\n",
    "print(f'seu IMC foi de {imc}')\n",
    "\n",
    "\n",
    "if ( imc >= 18.5 and imc <= 25):\n",
    "        print(\"IMC ok\")\n",
    "else:\n",
    "    print(\"Bora bora melhorar eses IMC\")"
   ]
  },
  {
   "cell_type": "code",
   "execution_count": null,
   "id": "30be6bcd",
   "metadata": {},
   "outputs": [],
   "source": []
  }
 ],
 "metadata": {
  "kernelspec": {
   "display_name": "Python 3 (ipykernel)",
   "language": "python",
   "name": "python3"
  },
  "language_info": {
   "codemirror_mode": {
    "name": "ipython",
    "version": 3
   },
   "file_extension": ".py",
   "mimetype": "text/x-python",
   "name": "python",
   "nbconvert_exporter": "python",
   "pygments_lexer": "ipython3",
   "version": "3.9.7"
  }
 },
 "nbformat": 4,
 "nbformat_minor": 5
}
