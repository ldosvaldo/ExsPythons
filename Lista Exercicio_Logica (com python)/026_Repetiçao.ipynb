{
 "cells": [
  {
   "cell_type": "markdown",
   "id": "dc7c6ec7",
   "metadata": {},
   "source": [
    "### Leia dois números, calcule e informe a soma. Pergunte se deseja calcular novamente."
   ]
  },
  {
   "cell_type": "code",
   "execution_count": 12,
   "id": "b5eaf84d",
   "metadata": {},
   "outputs": [
    {
     "name": "stdout",
     "output_type": "stream",
     "text": [
      "Digite um numero19\n",
      "Digite um numero2\n",
      "Deseja calcular novamente? \n",
      " 1 = SIM \n",
      " 2 = NAO \n",
      "2\n",
      "21.0\n"
     ]
    }
   ],
   "source": [
    "num1 = float(input(\"Digite um numero\"))\n",
    "num2 = float(input(\"Digite um numero\"))\n",
    "\n",
    "soma = num1 + num2\n",
    "\n",
    "pergunta = int(input(\"Deseja calcular novamente? \\n 1 = SIM \\n 2 = NAO \\n\"))\n",
    "\n",
    "while(pergunta == 1):\n",
    "    num1 = float(input(\"Digite um numero\"))\n",
    "    num2 = float(input(\"Digite um numero\"))\n",
    "    soma = num1 + num2\n",
    "    print(soma)\n",
    "    pergunta +=1\n",
    "if(pergunta == 2):\n",
    "    print(soma)\n",
    "else:\n",
    "    print(\"erro\")\n",
    "    \n",
    "    "
   ]
  },
  {
   "cell_type": "code",
   "execution_count": null,
   "id": "cfde4f2a",
   "metadata": {},
   "outputs": [],
   "source": []
  }
 ],
 "metadata": {
  "kernelspec": {
   "display_name": "Python 3 (ipykernel)",
   "language": "python",
   "name": "python3"
  },
  "language_info": {
   "codemirror_mode": {
    "name": "ipython",
    "version": 3
   },
   "file_extension": ".py",
   "mimetype": "text/x-python",
   "name": "python",
   "nbconvert_exporter": "python",
   "pygments_lexer": "ipython3",
   "version": "3.9.7"
  }
 },
 "nbformat": 4,
 "nbformat_minor": 5
}
