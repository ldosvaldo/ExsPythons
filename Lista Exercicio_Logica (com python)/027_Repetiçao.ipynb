{
 "cells": [
  {
   "cell_type": "markdown",
   "id": "de212721",
   "metadata": {},
   "source": [
    "### Leia o nome da pessoa. Caso ela deixe em branco solicite para digitar novamente."
   ]
  },
  {
   "cell_type": "code",
   "execution_count": 3,
   "id": "c9f852d5",
   "metadata": {},
   "outputs": [
    {
     "name": "stdout",
     "output_type": "stream",
     "text": [
      "Digite o nome\n",
      "Nome em branco! Tente novamente!\n",
      "Digite o nome novamente:\n",
      "Nome em branco! Tente novamente!\n",
      "Digite o nome novamente:\n",
      "Nome em branco! Tente novamente!\n",
      "Digite o nome novamente:\n",
      "Nome em branco! Tente novamente!\n",
      "Digite o nome novamente:\n",
      "Nome em branco! Tente novamente!\n",
      "Digite o nome novamente:Lucas\n",
      "Nome inserido !\n"
     ]
    }
   ],
   "source": [
    "nome = input(\"Digite o nome\")\n",
    "\n",
    "while (nome == \"\"):\n",
    "    print(\"Nome em branco! Tente novamente!\")\n",
    "    nome=input(\"Digite o nome novamente:\")\n",
    "\n",
    "print(\"Nome inserido !\")"
   ]
  },
  {
   "cell_type": "code",
   "execution_count": null,
   "id": "889fbcfd",
   "metadata": {},
   "outputs": [],
   "source": []
  },
  {
   "cell_type": "code",
   "execution_count": null,
   "id": "4bf81c71",
   "metadata": {},
   "outputs": [],
   "source": []
  }
 ],
 "metadata": {
  "kernelspec": {
   "display_name": "Python 3 (ipykernel)",
   "language": "python",
   "name": "python3"
  },
  "language_info": {
   "codemirror_mode": {
    "name": "ipython",
    "version": 3
   },
   "file_extension": ".py",
   "mimetype": "text/x-python",
   "name": "python",
   "nbconvert_exporter": "python",
   "pygments_lexer": "ipython3",
   "version": "3.9.7"
  }
 },
 "nbformat": 4,
 "nbformat_minor": 5
}
