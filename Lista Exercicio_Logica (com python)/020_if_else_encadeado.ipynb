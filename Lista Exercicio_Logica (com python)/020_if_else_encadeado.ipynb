{
 "cells": [
  {
   "cell_type": "markdown",
   "id": "fff5f056",
   "metadata": {},
   "source": [
    "### Solicite um número de 0 a 6 e informe o dia da semana por extenso."
   ]
  },
  {
   "cell_type": "code",
   "execution_count": 4,
   "id": "3158bee4",
   "metadata": {},
   "outputs": [
    {
     "name": "stdout",
     "output_type": "stream",
     "text": [
      "Escolha um dia da semana, de 1 a 64\n",
      "Quinta-Feira\n"
     ]
    }
   ],
   "source": [
    "a = int(input(\"Escolha um dia da semana, de 1 a 6\"))\n",
    "\n",
    "if(a == 1):\n",
    "    print(\"Segunda-Feira\")\n",
    "elif(a == 2):\n",
    "    print(\"Terça-Feira\")\n",
    "elif(a == 3):\n",
    "    print(\"Quarta-Feira\")\n",
    "elif(a == 4):\n",
    "    print(\"Quinta-Feira\")\n",
    "elif(a == 5):\n",
    "    print(\"Sexta-Feira\")\n",
    "elif(a == 6):\n",
    "    print(\"Sábado\")\n",
    "else:\n",
    "    print(\"Erro\")"
   ]
  },
  {
   "cell_type": "code",
   "execution_count": null,
   "id": "ee5680b5",
   "metadata": {},
   "outputs": [],
   "source": []
  }
 ],
 "metadata": {
  "kernelspec": {
   "display_name": "Python 3 (ipykernel)",
   "language": "python",
   "name": "python3"
  },
  "language_info": {
   "codemirror_mode": {
    "name": "ipython",
    "version": 3
   },
   "file_extension": ".py",
   "mimetype": "text/x-python",
   "name": "python",
   "nbconvert_exporter": "python",
   "pygments_lexer": "ipython3",
   "version": "3.9.7"
  }
 },
 "nbformat": 4,
 "nbformat_minor": 5
}
