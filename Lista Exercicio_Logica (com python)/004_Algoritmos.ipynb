{
 "cells": [
  {
   "cell_type": "markdown",
   "id": "2cf774d0",
   "metadata": {},
   "source": [
    "## Leia três valores (A, B e C). Informe média."
   ]
  },
  {
   "cell_type": "code",
   "execution_count": 1,
   "id": "1f445841",
   "metadata": {},
   "outputs": [
    {
     "name": "stdout",
     "output_type": "stream",
     "text": [
      "Digita um valor10\n",
      "Digita um valor10\n",
      "Digita um valor3\n",
      "Media entre os valores foi de7.666666666666667\n"
     ]
    }
   ],
   "source": [
    "a = float(input(\"Digita um valor\"))\n",
    "b = float(input(\"Digita um valor\"))\n",
    "c = float(input(\"Digita um valor\"))\n",
    "\n",
    "soma = a + b + c\n",
    "media = soma / 3\n",
    "\n",
    "print(f'Media entre os valores foi de{media}')"
   ]
  },
  {
   "cell_type": "code",
   "execution_count": null,
   "id": "873cf3de",
   "metadata": {},
   "outputs": [],
   "source": []
  }
 ],
 "metadata": {
  "kernelspec": {
   "display_name": "Python 3 (ipykernel)",
   "language": "python",
   "name": "python3"
  },
  "language_info": {
   "codemirror_mode": {
    "name": "ipython",
    "version": 3
   },
   "file_extension": ".py",
   "mimetype": "text/x-python",
   "name": "python",
   "nbconvert_exporter": "python",
   "pygments_lexer": "ipython3",
   "version": "3.9.7"
  }
 },
 "nbformat": 4,
 "nbformat_minor": 5
}
