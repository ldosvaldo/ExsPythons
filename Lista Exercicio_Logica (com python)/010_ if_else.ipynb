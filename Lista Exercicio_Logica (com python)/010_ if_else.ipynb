{
 "cells": [
  {
   "cell_type": "markdown",
   "id": "480515de",
   "metadata": {},
   "source": [
    "### Leia as medidas(b, h) de um retângulo. Informe a área calculada e se é um quadrado ou não."
   ]
  },
  {
   "cell_type": "code",
   "execution_count": 8,
   "id": "a2cbcb3f",
   "metadata": {},
   "outputs": [
    {
     "name": "stdout",
     "output_type": "stream",
     "text": [
      "Digite a base do quadrado10\n",
      "Digite a altura do quadrado10\n",
      "É um quadrado\n"
     ]
    }
   ],
   "source": [
    "b = float(input(\"Digite a base do quadrado\"))\n",
    "h = float(input(\"Digite a altura do quadrado\"))\n",
    "\n",
    "if( b == h):\n",
    "    print(\"É um quadrado\")\n",
    "else:\n",
    "    print(\"Não é um quadrado\")\n"
   ]
  },
  {
   "cell_type": "code",
   "execution_count": null,
   "id": "0d3a6c31",
   "metadata": {},
   "outputs": [],
   "source": []
  }
 ],
 "metadata": {
  "kernelspec": {
   "display_name": "Python 3 (ipykernel)",
   "language": "python",
   "name": "python3"
  },
  "language_info": {
   "codemirror_mode": {
    "name": "ipython",
    "version": 3
   },
   "file_extension": ".py",
   "mimetype": "text/x-python",
   "name": "python",
   "nbconvert_exporter": "python",
   "pygments_lexer": "ipython3",
   "version": "3.9.7"
  }
 },
 "nbformat": 4,
 "nbformat_minor": 5
}
