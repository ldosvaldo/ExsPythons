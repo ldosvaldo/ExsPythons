{
 "cells": [
  {
   "cell_type": "markdown",
   "id": "fecc30ff",
   "metadata": {},
   "source": [
    "### Pedrinho tem um cofrinho com muitas moedas, e deseja saber quantos reais conseguiu poupar. Faça um algoritmo para ler a quantidade de cada tipo de moeda, e imprimir o valor total economizado, em reais. Considere que existam moedas de 1, 5, 10, 25 e 50 centavos, e ainda moedas de 1 real. "
   ]
  },
  {
   "cell_type": "code",
   "execution_count": 23,
   "id": "6603d02b",
   "metadata": {},
   "outputs": [
    {
     "name": "stdout",
     "output_type": "stream",
     "text": [
      "Digite a quantidade de moedas de 1 centavo 1\n",
      "Digite a quantidade de moedas de 5 centavos 1\n",
      "Digite a quantidade de moedas de 10 centavos 1\n",
      "Digite a quantidade de moedas de 25 centavos 1\n",
      "Digite a quantidade de moedas de 50 centavos 1\n",
      "Digite a quantidade de moedas de 1 real 1\n",
      "Valor total de1.9100000000000001\n"
     ]
    }
   ],
   "source": [
    "\n",
    "a = int(input(\"Digite a quantidade de moedas de 1 centavo \"))\n",
    "b = int(input(\"Digite a quantidade de moedas de 5 centavos \"))\n",
    "c = int(input(\"Digite a quantidade de moedas de 10 centavos \"))\n",
    "d = int(input(\"Digite a quantidade de moedas de 25 centavos \"))\n",
    "e = int(input(\"Digite a quantidade de moedas de 50 centavos \"))\n",
    "f = int(input(\"Digite a quantidade de moedas de 1 real \"))\n",
    "\n",
    "\n",
    "\n",
    "soma = (((a * 1) + (b * 5) + (c * 10) + (d * 25) + (e * 50)) /100) + (f * 1)\n",
    "\n",
    "\n",
    "print(f'Valor total de{soma}')"
   ]
  },
  {
   "cell_type": "markdown",
   "id": "c962a900",
   "metadata": {},
   "source": [
    "# "
   ]
  },
  {
   "cell_type": "code",
   "execution_count": null,
   "id": "b78e928e",
   "metadata": {},
   "outputs": [],
   "source": []
  }
 ],
 "metadata": {
  "kernelspec": {
   "display_name": "Python 3 (ipykernel)",
   "language": "python",
   "name": "python3"
  },
  "language_info": {
   "codemirror_mode": {
    "name": "ipython",
    "version": 3
   },
   "file_extension": ".py",
   "mimetype": "text/x-python",
   "name": "python",
   "nbconvert_exporter": "python",
   "pygments_lexer": "ipython3",
   "version": "3.9.7"
  }
 },
 "nbformat": 4,
 "nbformat_minor": 5
}
