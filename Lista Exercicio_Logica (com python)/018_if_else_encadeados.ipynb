{
 "cells": [
  {
   "cell_type": "markdown",
   "id": "d645e9af",
   "metadata": {},
   "source": [
    "### O IMC – Índice de Massa Corporal é um critério da Organização Mundial de Saúde para dar uma indicação sobre a condição de peso de uma pessoa adulta. A fórmula é IMC = peso / ( altura )²Elabore um algoritmo que leia o peso e a altura de um adulto e mostre sua condição de acordo com a tabela abaixo.\n",
    "\n",
    "### Classificação     | IMC\n",
    "### Abaixo do Peso  (- 18.5)\n",
    "### Peso Normal       (18,5 a 24,9)\n",
    "### Sobrepeso          (25 a 29.9)\n",
    "### Obesidade I        (30 a 34.9)\n",
    "### Obesidade II       (35 a 39.9)\n",
    "### Obesidade III      ( 40 ou acima)"
   ]
  },
  {
   "cell_type": "code",
   "execution_count": null,
   "id": "8d223730",
   "metadata": {},
   "outputs": [],
   "source": [
    "altura = float(input(\"Digite sua altura em Metros\"))\n",
    "peso = float(input(\"Digite seu peso\"))\n",
    "\n",
    "imc = peso / (altura ** altura)\n",
    "\n",
    "print(f'seu IMC foi de {imc}')\n",
    "\n",
    "if(imc < 18.5):\n",
    "    prinf(\"Abaixo do peso\")\n",
    "elif (imc >= 18.5 and imc <= 24.9):\n",
    "    print(\"Peso Normal\")\n",
    "elif (imc >= 25 and imc <= 29.99):\n",
    "    print(\"Sobrepeso\")\n",
    "elif (imc >= 30 and imc <= 34.99):\n",
    "    print(\"Obesidade I\")\n",
    "elif (imc >= 35 and imc <= 39.99):\n",
    "    print(\"Obesidade II (severa)\")\n",
    "elif (imc >= 40):\n",
    "    print(\"Obesidade III (mórbida)\")\n"
   ]
  },
  {
   "cell_type": "code",
   "execution_count": null,
   "id": "0a27347b",
   "metadata": {},
   "outputs": [],
   "source": []
  }
 ],
 "metadata": {
  "kernelspec": {
   "display_name": "Python 3 (ipykernel)",
   "language": "python",
   "name": "python3"
  },
  "language_info": {
   "codemirror_mode": {
    "name": "ipython",
    "version": 3
   },
   "file_extension": ".py",
   "mimetype": "text/x-python",
   "name": "python",
   "nbconvert_exporter": "python",
   "pygments_lexer": "ipython3",
   "version": "3.9.7"
  }
 },
 "nbformat": 4,
 "nbformat_minor": 5
}
