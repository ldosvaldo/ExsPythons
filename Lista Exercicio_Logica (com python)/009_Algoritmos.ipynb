{
 "cells": [
  {
   "cell_type": "markdown",
   "id": "13165c8f",
   "metadata": {},
   "source": [
    "### Leia um número de 1 a 10, calcule e mostre a tabuada"
   ]
  },
  {
   "cell_type": "code",
   "execution_count": 2,
   "id": "1aa65993",
   "metadata": {},
   "outputs": [
    {
     "name": "stdout",
     "output_type": "stream",
     "text": [
      "Tabuada do numero: 10\n",
      "10 x 1 = 10\n",
      "10 x 2 = 20\n",
      "10 x 3 = 30\n",
      "10 x 4 = 40\n",
      "10 x 5 = 50\n",
      "10 x 6 = 60\n",
      "10 x 7 = 70\n",
      "10 x 8 = 80\n",
      "10 x 9 = 90\n",
      "10 x 10 = 100\n"
     ]
    }
   ],
   "source": [
    "valor=int(input(\"Tabuada do numero: \"))\n",
    "\n",
    "for count in range(10):\n",
    "    print (f\"{valor} x {count+1} = {valor*(count+1)}\")"
   ]
  },
  {
   "cell_type": "code",
   "execution_count": null,
   "id": "eacc7816",
   "metadata": {},
   "outputs": [],
   "source": []
  }
 ],
 "metadata": {
  "kernelspec": {
   "display_name": "Python 3 (ipykernel)",
   "language": "python",
   "name": "python3"
  },
  "language_info": {
   "codemirror_mode": {
    "name": "ipython",
    "version": 3
   },
   "file_extension": ".py",
   "mimetype": "text/x-python",
   "name": "python",
   "nbconvert_exporter": "python",
   "pygments_lexer": "ipython3",
   "version": "3.9.7"
  }
 },
 "nbformat": 4,
 "nbformat_minor": 5
}
