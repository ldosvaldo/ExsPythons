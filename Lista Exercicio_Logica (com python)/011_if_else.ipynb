{
 "cells": [
  {
   "cell_type": "markdown",
   "id": "f60b86ff",
   "metadata": {},
   "source": [
    "### Sabendo que cada unidade de ferradura custa 9,90, pergunte quantos cavalos precisam de (4) ferraduras. Se o custo total for maior que 100,00 aplique um desconto de 10%. Depois informe o valor final. "
   ]
  },
  {
   "cell_type": "code",
   "execution_count": 5,
   "id": "6a87fa96",
   "metadata": {},
   "outputs": [
    {
     "name": "stdout",
     "output_type": "stream",
     "text": [
      "Quantos cavalos precisam de ferraduras?10\n",
      "Valor com 10% desconto, final foi de 356.40000000000003\n"
     ]
    }
   ],
   "source": [
    "qtdCavalos = int(input(\"Quantos cavalos precisam de ferraduras?\"))\n",
    "\n",
    "ferradura = 9.9\n",
    "qtdFerraduras = qtdCavalos * 4\n",
    "somaValor = ferradura * qtdFerraduras\n",
    "\n",
    "if(somaValor > 100):\n",
    "    valorFinal = somaValor * 0.9\n",
    "    print(f'Valor com 10% desconto, final foi de {valorFinal}')\n",
    "else:\n",
    "    print(f'Valor final foi de {somaValor}reais')"
   ]
  },
  {
   "cell_type": "code",
   "execution_count": null,
   "id": "af10091e",
   "metadata": {},
   "outputs": [],
   "source": []
  }
 ],
 "metadata": {
  "kernelspec": {
   "display_name": "Python 3 (ipykernel)",
   "language": "python",
   "name": "python3"
  },
  "language_info": {
   "codemirror_mode": {
    "name": "ipython",
    "version": 3
   },
   "file_extension": ".py",
   "mimetype": "text/x-python",
   "name": "python",
   "nbconvert_exporter": "python",
   "pygments_lexer": "ipython3",
   "version": "3.9.7"
  }
 },
 "nbformat": 4,
 "nbformat_minor": 5
}
