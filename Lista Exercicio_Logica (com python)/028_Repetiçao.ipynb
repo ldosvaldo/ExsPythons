{
 "cells": [
  {
   "cell_type": "markdown",
   "id": "f80dba5e",
   "metadata": {},
   "source": [
    "### Leia um número, calcule o fatorial deste número e mostre o resultado."
   ]
  },
  {
   "cell_type": "code",
   "execution_count": 5,
   "id": "6fdc530d",
   "metadata": {},
   "outputs": [
    {
     "name": "stdout",
     "output_type": "stream",
     "text": [
      "Digite um numero para calcular seu fatorial: 100\n",
      "Fatorial é de 93326215443944152681699238856266700490715968264381621468592963895217599993229915608941463976156518286253697920827223758251185210916864000000000000000000000000\n"
     ]
    }
   ],
   "source": [
    "#Fatorial usando o \"for\":\n",
    "num = int(input('Digite um numero para calcular seu fatorial: '))\n",
    "\n",
    "c = 0\n",
    "f = 1\n",
    "for c in range (1, num):\n",
    "    f *= num\n",
    "    num -= 1\n",
    "print(f'Fatorial é de {f}')"
   ]
  },
  {
   "cell_type": "code",
   "execution_count": null,
   "id": "2ea034e2",
   "metadata": {},
   "outputs": [],
   "source": []
  }
 ],
 "metadata": {
  "kernelspec": {
   "display_name": "Python 3 (ipykernel)",
   "language": "python",
   "name": "python3"
  },
  "language_info": {
   "codemirror_mode": {
    "name": "ipython",
    "version": 3
   },
   "file_extension": ".py",
   "mimetype": "text/x-python",
   "name": "python",
   "nbconvert_exporter": "python",
   "pygments_lexer": "ipython3",
   "version": "3.9.7"
  }
 },
 "nbformat": 4,
 "nbformat_minor": 5
}
