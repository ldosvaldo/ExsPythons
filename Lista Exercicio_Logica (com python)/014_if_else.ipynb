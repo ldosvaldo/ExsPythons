{
 "cells": [
  {
   "cell_type": "markdown",
   "id": "6e4c4a24",
   "metadata": {},
   "source": [
    "### Pergunte qual o valor da compra e a forma de pagamento, se for a vista dê 10% de desconto, caso contrário dê 5%"
   ]
  },
  {
   "cell_type": "code",
   "execution_count": 6,
   "id": "8d3b08a3",
   "metadata": {},
   "outputs": [
    {
     "name": "stdout",
     "output_type": "stream",
     "text": [
      "Digite o valor da compra100\n",
      "Digite 1 para Pagamento a vista e 2 para pagamento a Prazo3\n",
      "Erro\n"
     ]
    }
   ],
   "source": [
    "valorCompra = float(input(\"Digite o valor da compra\"))\n",
    "meioPgt = int(input(\"Digite 1 para Pagamento a vista e 2 para pagamento a Prazo\"))\n",
    "\n",
    "\n",
    "if(meioPgt == 1):\n",
    "    valorCompra = valorCompra * 0.9\n",
    "    print(f'Valor final de {valorCompra}')\n",
    "elif(meioPgt == 2):\n",
    "    valorCompra = valorCompra * 0.95\n",
    "    print(f'Valor final de {valorCompra}')\n",
    "else:\n",
    "    print(\"Erro\")"
   ]
  },
  {
   "cell_type": "code",
   "execution_count": null,
   "id": "58081817",
   "metadata": {},
   "outputs": [],
   "source": []
  }
 ],
 "metadata": {
  "kernelspec": {
   "display_name": "Python 3 (ipykernel)",
   "language": "python",
   "name": "python3"
  },
  "language_info": {
   "codemirror_mode": {
    "name": "ipython",
    "version": 3
   },
   "file_extension": ".py",
   "mimetype": "text/x-python",
   "name": "python",
   "nbconvert_exporter": "python",
   "pygments_lexer": "ipython3",
   "version": "3.9.7"
  }
 },
 "nbformat": 4,
 "nbformat_minor": 5
}
