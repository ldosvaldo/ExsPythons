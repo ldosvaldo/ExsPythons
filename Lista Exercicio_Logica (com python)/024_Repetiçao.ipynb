{
 "cells": [
  {
   "cell_type": "markdown",
   "id": "9407f8d1",
   "metadata": {},
   "source": [
    "### Leia o nome da pessoa e imprima ele 15 vezes na tela."
   ]
  },
  {
   "cell_type": "code",
   "execution_count": 5,
   "id": "cc4f456e",
   "metadata": {},
   "outputs": [
    {
     "name": "stdout",
     "output_type": "stream",
     "text": [
      "Digite seu nome \n",
      "LUcas\n",
      "\n",
      " LUcas\n",
      "\n",
      " LUcas\n",
      "\n",
      " LUcas\n",
      "\n",
      " LUcas\n",
      "\n",
      " LUcas\n",
      "\n",
      " LUcas\n",
      "\n",
      " LUcas\n",
      "\n",
      " LUcas\n",
      "\n",
      " LUcas\n",
      "\n",
      " LUcas\n",
      "\n",
      " LUcas\n",
      "\n",
      " LUcas\n",
      "\n",
      " LUcas\n",
      "\n",
      " LUcas\n",
      "\n",
      " LUcas\n"
     ]
    }
   ],
   "source": [
    "nome = input(\"Digite seu nome \\n\")\n",
    "\n",
    "a = 1\n",
    "while(a <= 15):\n",
    "    print(\"\\n\", nome)\n",
    "    a += 1"
   ]
  },
  {
   "cell_type": "code",
   "execution_count": null,
   "id": "a30c674e",
   "metadata": {},
   "outputs": [],
   "source": []
  }
 ],
 "metadata": {
  "kernelspec": {
   "display_name": "Python 3 (ipykernel)",
   "language": "python",
   "name": "python3"
  },
  "language_info": {
   "codemirror_mode": {
    "name": "ipython",
    "version": 3
   },
   "file_extension": ".py",
   "mimetype": "text/x-python",
   "name": "python",
   "nbconvert_exporter": "python",
   "pygments_lexer": "ipython3",
   "version": "3.9.7"
  }
 },
 "nbformat": 4,
 "nbformat_minor": 5
}
