{
 "cells": [
  {
   "cell_type": "markdown",
   "id": "08000eb7",
   "metadata": {},
   "source": [
    "### Solicite o nome, e-mail, rg e cpf da pessoa. Faça uma validação simples para verificar se todos os campos foram preenchidos.\n"
   ]
  },
  {
   "cell_type": "code",
   "execution_count": 1,
   "id": "96273afb",
   "metadata": {},
   "outputs": [
    {
     "name": "stdout",
     "output_type": "stream",
     "text": [
      "Digite seu nomelucas\n",
      "Digite seu emaillucas_lds01@hotmail.com\n",
      "Digite seu RG, apenas numeros28492894824\n",
      "Digite seu CPF, apenas numeros2894289280\n",
      "Tudo certo! Bem vindo\n"
     ]
    }
   ],
   "source": [
    "nome = input(\"Digite seu nome\")\n",
    "email = input(\"Digite seu email\")\n",
    "rg = int(input(\"Digite seu RG, apenas numeros\"))\n",
    "cpf = int(input(\"Digite seu CPF, apenas numeros\"))\n",
    "\n",
    "if(nome == nome and email == email and rg == rg and cpf == cpf):\n",
    "    print(\"Tudo certo! Bem vindo\")\n",
    "else:\n",
    "    (\"Faltou algum dado, verifique isso.\")"
   ]
  },
  {
   "cell_type": "code",
   "execution_count": null,
   "id": "4c1459f3",
   "metadata": {},
   "outputs": [],
   "source": []
  }
 ],
 "metadata": {
  "kernelspec": {
   "display_name": "Python 3 (ipykernel)",
   "language": "python",
   "name": "python3"
  },
  "language_info": {
   "codemirror_mode": {
    "name": "ipython",
    "version": 3
   },
   "file_extension": ".py",
   "mimetype": "text/x-python",
   "name": "python",
   "nbconvert_exporter": "python",
   "pygments_lexer": "ipython3",
   "version": "3.9.7"
  }
 },
 "nbformat": 4,
 "nbformat_minor": 5
}
