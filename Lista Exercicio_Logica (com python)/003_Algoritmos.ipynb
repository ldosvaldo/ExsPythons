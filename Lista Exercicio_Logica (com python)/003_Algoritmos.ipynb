{
 "cells": [
  {
   "cell_type": "markdown",
   "id": "ea58b96f",
   "metadata": {},
   "source": [
    "## Leia dois valores (A e B) e informe a soma."
   ]
  },
  {
   "cell_type": "code",
   "execution_count": 1,
   "id": "d46c91ef",
   "metadata": {},
   "outputs": [
    {
     "name": "stdout",
     "output_type": "stream",
     "text": [
      "Digite um valor10\n",
      "Digite um valor5\n",
      " Valor da soma foi de 15.0\n"
     ]
    }
   ],
   "source": [
    "a = float(input(\"Digite um valor\"))\n",
    "b = float(input(\"Digite um valor\"))\n",
    "\n",
    "soma = a + b\n",
    "\n",
    "print(f' Valor da soma foi de {soma}')"
   ]
  },
  {
   "cell_type": "code",
   "execution_count": null,
   "id": "df50edd8",
   "metadata": {},
   "outputs": [],
   "source": []
  }
 ],
 "metadata": {
  "kernelspec": {
   "display_name": "Python 3 (ipykernel)",
   "language": "python",
   "name": "python3"
  },
  "language_info": {
   "codemirror_mode": {
    "name": "ipython",
    "version": 3
   },
   "file_extension": ".py",
   "mimetype": "text/x-python",
   "name": "python",
   "nbconvert_exporter": "python",
   "pygments_lexer": "ipython3",
   "version": "3.9.7"
  }
 },
 "nbformat": 4,
 "nbformat_minor": 5
}
