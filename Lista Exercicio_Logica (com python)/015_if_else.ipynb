{
 "cells": [
  {
   "cell_type": "markdown",
   "id": "9cfb22ac",
   "metadata": {},
   "source": [
    "### Tendo como dados de entrada a altura e o sexo de uma pessoa, construa um algoritmo que calcule seu peso ideal, utilizando as seguintes fórmulas:\n",
    "### ● para homens: (72.7 * h) – 58;\n",
    "### ● para mulheres: (62.1 * h) – 44.7."
   ]
  },
  {
   "cell_type": "code",
   "execution_count": 4,
   "id": "44089810",
   "metadata": {},
   "outputs": [
    {
     "name": "stdout",
     "output_type": "stream",
     "text": [
      "Digite o sexo da pessoa, 1 para Homem e 2 para mulher 1\n",
      "Digite a altura da pessoa1.23\n",
      "Peso ideal de 31.421000000000006\n"
     ]
    }
   ],
   "source": [
    "sexoPessoa = int(input(\"Digite o sexo da pessoa, 1 para Homem e 2 para mulher \"))\n",
    "h = float(input(\"Digite a altura da pessoa\"))\n",
    "\n",
    "if(sexoPessoa == 1):\n",
    "    pesoIdeal = (72.7 * h) - 58\n",
    "    print(f'Peso ideal de {pesoIdeal}')\n",
    "elif(sexoPessoa == 2):\n",
    "    pesoIdeal = (62.1 * h) - 44.7\n",
    "    print(f'Peso ideal de {pesoIdeal}')\n",
    "else:\n",
    "    print(\"Alguma informação esta errada !\")"
   ]
  },
  {
   "cell_type": "code",
   "execution_count": null,
   "id": "4838beac",
   "metadata": {},
   "outputs": [],
   "source": []
  }
 ],
 "metadata": {
  "kernelspec": {
   "display_name": "Python 3 (ipykernel)",
   "language": "python",
   "name": "python3"
  },
  "language_info": {
   "codemirror_mode": {
    "name": "ipython",
    "version": 3
   },
   "file_extension": ".py",
   "mimetype": "text/x-python",
   "name": "python",
   "nbconvert_exporter": "python",
   "pygments_lexer": "ipython3",
   "version": "3.9.7"
  }
 },
 "nbformat": 4,
 "nbformat_minor": 5
}
