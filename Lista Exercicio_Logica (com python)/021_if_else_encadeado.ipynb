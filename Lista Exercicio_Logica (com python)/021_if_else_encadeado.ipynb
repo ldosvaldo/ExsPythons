{
 "cells": [
  {
   "cell_type": "markdown",
   "id": "edc36719",
   "metadata": {},
   "source": [
    "### Solicite um animal e mostre em inglês. (Ex.: gato, cachorro, etc..)\n"
   ]
  },
  {
   "cell_type": "code",
   "execution_count": 3,
   "id": "f81741cc",
   "metadata": {},
   "outputs": [
    {
     "name": "stdout",
     "output_type": "stream",
     "text": [
      "Digite o numero do animal para ver a escrita em ingles \n",
      " 1 = gato \n",
      " 2 = cachorro \n",
      " 3 = peixe \n",
      " 2\n",
      " cachorro = dog\n"
     ]
    }
   ],
   "source": [
    "a = int(input(\"Digite o numero do animal para ver a escrita em ingles \\n 1 = gato \\n 2 = cachorro \\n 3 = peixe \\n \"))\n",
    "\n",
    "if (a == 1):\n",
    "    print(\" gato = cat\")\n",
    "elif (a == 2):\n",
    "    print(\" cachorro = dog\")\n",
    "elif ( a == 3):\n",
    "    print(\" peixe = fish \")\n",
    "else:\n",
    "    print(\"Animal inexistente\")"
   ]
  },
  {
   "cell_type": "code",
   "execution_count": null,
   "id": "51b30ded",
   "metadata": {},
   "outputs": [],
   "source": []
  }
 ],
 "metadata": {
  "kernelspec": {
   "display_name": "Python 3 (ipykernel)",
   "language": "python",
   "name": "python3"
  },
  "language_info": {
   "codemirror_mode": {
    "name": "ipython",
    "version": 3
   },
   "file_extension": ".py",
   "mimetype": "text/x-python",
   "name": "python",
   "nbconvert_exporter": "python",
   "pygments_lexer": "ipython3",
   "version": "3.9.7"
  }
 },
 "nbformat": 4,
 "nbformat_minor": 5
}
