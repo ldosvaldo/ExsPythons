{
 "cells": [
  {
   "cell_type": "markdown",
   "id": "f81b97be",
   "metadata": {},
   "source": [
    "## Leia as medidas(b, h) de um retângulo. Escreva a área calculada.\n"
   ]
  },
  {
   "cell_type": "code",
   "execution_count": 1,
   "id": "a8670ed0",
   "metadata": {},
   "outputs": [
    {
     "name": "stdout",
     "output_type": "stream",
     "text": [
      "Digite o valor da Base do triangulo20\n",
      "Digite o valor da Altura do triangulo1\n",
      "Área de 10.0cm²\n"
     ]
    }
   ],
   "source": [
    "b = int(input(\"Digite o valor da Base do triangulo\"))\n",
    "h = int(input(\"Digite o valor da Altura do triangulo\"))\n",
    "\n",
    "area = (b * h) / 2\n",
    "\n",
    "print(f'Área de {area}cm²')"
   ]
  },
  {
   "cell_type": "code",
   "execution_count": null,
   "id": "c29b86ed",
   "metadata": {},
   "outputs": [],
   "source": []
  }
 ],
 "metadata": {
  "kernelspec": {
   "display_name": "Python 3 (ipykernel)",
   "language": "python",
   "name": "python3"
  },
  "language_info": {
   "codemirror_mode": {
    "name": "ipython",
    "version": 3
   },
   "file_extension": ".py",
   "mimetype": "text/x-python",
   "name": "python",
   "nbconvert_exporter": "python",
   "pygments_lexer": "ipython3",
   "version": "3.9.7"
  }
 },
 "nbformat": 4,
 "nbformat_minor": 5
}
