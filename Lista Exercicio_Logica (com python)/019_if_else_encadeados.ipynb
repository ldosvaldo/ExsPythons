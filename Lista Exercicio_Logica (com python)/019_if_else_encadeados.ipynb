{
 "cells": [
  {
   "cell_type": "markdown",
   "id": "aa81e659",
   "metadata": {},
   "source": [
    "### Solicite um número de 1 a 12 e informe o mês escolhido por extenso.\n"
   ]
  },
  {
   "cell_type": "code",
   "execution_count": 10,
   "id": "80e76a5e",
   "metadata": {},
   "outputs": [
    {
     "name": "stdout",
     "output_type": "stream",
     "text": [
      "Digite um numero de 1 a 12, para escolher o mes desejado8\n",
      "Mes escolhido foi Agosto\n"
     ]
    }
   ],
   "source": [
    "a = int(input(\"Digite um numero de 1 a 12, para escolher o mes desejado\"))\n",
    "\n",
    "if(a == 1):\n",
    "    print(\"Mes escolhido foi Janeiro\")\n",
    "elif(a == 2):\n",
    "    print(\"Mes escolhido foi Fevereiro\")\n",
    "elif(a == 3):\n",
    "    print(\"Mes escolhido foi Março\")\n",
    "elif(a == 4):\n",
    "    print(\"Mes escolhido foi Abril\")\n",
    "elif(a == 5):\n",
    "    print(\"Mes escolhido foi Maio\")\n",
    "elif(a == 6):\n",
    "    print(\"Mes escolhido foi Junho\")\n",
    "elif(a == 7):\n",
    "    print(\"Mes escolhido foi Julho\")\n",
    "elif(a == 8):\n",
    "    print(\"Mes escolhido foi Agosto\")\n",
    "elif(a == 9):\n",
    "    print(\"Mes escolhido foi Setembro\")\n",
    "elif(a == 10):\n",
    "    print(\"Mes escolhido foi Outubro\")\n",
    "elif(a == 11):\n",
    "    print(\"Mes escolhido foi Novembro\")\n",
    "elif(a == 12):\n",
    "    print(\"Mes escolhido foi Dezembro\")\n",
    "else:\n",
    "     print(\"Mes escolhido nao existe\")"
   ]
  },
  {
   "cell_type": "code",
   "execution_count": null,
   "id": "730186fe",
   "metadata": {},
   "outputs": [],
   "source": []
  }
 ],
 "metadata": {
  "kernelspec": {
   "display_name": "Python 3 (ipykernel)",
   "language": "python",
   "name": "python3"
  },
  "language_info": {
   "codemirror_mode": {
    "name": "ipython",
    "version": 3
   },
   "file_extension": ".py",
   "mimetype": "text/x-python",
   "name": "python",
   "nbconvert_exporter": "python",
   "pygments_lexer": "ipython3",
   "version": "3.9.7"
  }
 },
 "nbformat": 4,
 "nbformat_minor": 5
}
