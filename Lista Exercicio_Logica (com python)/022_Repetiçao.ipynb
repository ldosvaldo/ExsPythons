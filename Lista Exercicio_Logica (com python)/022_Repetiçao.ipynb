{
 "cells": [
  {
   "cell_type": "markdown",
   "id": "69b8ed37",
   "metadata": {},
   "source": [
    "### Mostre o seu nome 7 vezes na tela."
   ]
  },
  {
   "cell_type": "code",
   "execution_count": 16,
   "id": "c0049f4d",
   "metadata": {},
   "outputs": [
    {
     "name": "stdout",
     "output_type": "stream",
     "text": [
      "Digite seu nome \n",
      "\n",
      "Lucas\n",
      "Seu nome é: Lucas\n",
      "Seu nome é: Lucas\n",
      "Seu nome é: Lucas\n",
      "Seu nome é: Lucas\n",
      "Seu nome é: Lucas\n",
      "Seu nome é: Lucas\n",
      "Seu nome é: Lucas\n"
     ]
    }
   ],
   "source": [
    "nome = input(\"Digite seu nome \\n\\n\")\n",
    "\n",
    "a = 1\n",
    "while ( a <= 7):\n",
    "    print(\"Seu nome é:\", nome)\n",
    "    a += 1\n"
   ]
  },
  {
   "cell_type": "code",
   "execution_count": null,
   "id": "649892d0",
   "metadata": {},
   "outputs": [],
   "source": []
  }
 ],
 "metadata": {
  "kernelspec": {
   "display_name": "Python 3 (ipykernel)",
   "language": "python",
   "name": "python3"
  },
  "language_info": {
   "codemirror_mode": {
    "name": "ipython",
    "version": 3
   },
   "file_extension": ".py",
   "mimetype": "text/x-python",
   "name": "python",
   "nbconvert_exporter": "python",
   "pygments_lexer": "ipython3",
   "version": "3.9.7"
  }
 },
 "nbformat": 4,
 "nbformat_minor": 5
}
